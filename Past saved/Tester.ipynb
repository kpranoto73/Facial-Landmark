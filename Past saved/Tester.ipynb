{
 "cells": [
  {
   "cell_type": "code",
   "execution_count": 1,
   "metadata": {
    "collapsed": false
   },
   "outputs": [],
   "source": [
    "import cv2\n",
    "import numpy as np\n",
    "import dlib\n",
    "import array\n",
    "import pandas as pd\n",
    "import os\n",
    "import matplotlib.pyplot as plt\n",
    "%matplotlib inline\n",
    "import sys"
   ]
  },
  {
   "cell_type": "code",
   "execution_count": 23,
   "metadata": {
    "collapsed": false
   },
   "outputs": [
    {
     "ename": "SyntaxError",
     "evalue": "invalid syntax (<ipython-input-23-ae8e560e8ab5>, line 1)",
     "output_type": "error",
     "traceback": [
      "\u001b[0;36m  File \u001b[0;32m\"<ipython-input-23-ae8e560e8ab5>\"\u001b[0;36m, line \u001b[0;32m1\u001b[0m\n\u001b[0;31m    a = [[1,2,3][]]\u001b[0m\n\u001b[0m                 ^\u001b[0m\n\u001b[0;31mSyntaxError\u001b[0m\u001b[0;31m:\u001b[0m invalid syntax\n"
     ]
    }
   ],
   "source": [
    "a = [[1,2,3][]]\n",
    "a.append ([],['nose', 'nose'])\n",
    "a"
   ]
  },
  {
   "cell_type": "markdown",
   "metadata": {
    "collapsed": false
   },
   "source": [
    "lst = ['Geeks', 'For', 'Geeks', 'is', 'portal', 'for', 'Geeks']\n",
    "df = pd.DataFrame(lst)\n",
    "print(df)\n",
    "\n",
    "df.append('apple')"
   ]
  },
  {
   "cell_type": "markdown",
   "metadata": {
    "collapsed": false
   },
   "source": [
    "original = [[1, 447, 176], [2, 448, 188], [3, 449, 200], [4, 451, 212], [5, 456, 223], [6, 462, 232], [7, 470, 240], [8, 479, 246], [9, 490, 247], [10, 500, 246], [11, 510, 240], [12, 518, 232], [13, 525, 223], [14, 530, 213], [15, 532, 201], [16, 534, 189], [17, 535, 177], [18, 455, 169], [19, 460, 165], [20, 467, 164], [21, 475, 165], [22, 482, 168], [23, 501, 168], [24, 508, 165], [25, 516, 164], [26, 523, 165], [27, 529, 170], [28, 491, 178], [29, 491, 185], [30, 491, 192], [31, 491, 200], [32, 483, 206], [33, 487, 207], [34, 491, 207], [35, 495, 207], [36, 499, 206], [37, 464, 178], [38, 469, 175], [39, 474, 176], [40, 478, 179], [41, 473, 180], [42, 468, 180], [43, 504, 180], [44, 509, 176], [45, 514, 176], [46, 519, 178], [47, 515, 181], [48, 509, 181], [49, 476, 224], [50, 481, 220], [51, 487, 218], [52, 490, 219], [53, 494, 219], [54, 499, 221], [55, 504, 225], [56, 499, 229], [57, 494, 231], [58, 490, 231], [59, 486, 231], [60, 481, 229], [61, 479, 224], [62, 487, 222], [63, 490, 223], [64, 494, 222], [65, 501, 225], [66, 494, 225], [67, 490, 225], [68, 486, 225]]\n",
    "distance_list = []\n",
    "apple = []\n",
    "new = []\n",
    "test = [1,2,3]\n",
    "apple.append(['Chin', 'Right Eyebrow', 'Left Eyebrow', 'Long Nose', 'Bottom Nose', 'Right Eyes', 'Left Eyes', 'Mouth'])\n"
   ]
  },
  {
   "cell_type": "markdown",
   "metadata": {
    "collapsed": false
   },
   "source": [
    "print(orignal[len(original)"
   ]
  },
  {
   "cell_type": "markdown",
   "metadata": {
    "collapsed": false
   },
   "source": [
    "original"
   ]
  },
  {
   "cell_type": "markdown",
   "metadata": {
    "collapsed": false
   },
   "source": [
    "for n in range(0,68):\n",
    "    if n == 0 or n == 16 or n == 17 or n ==21 or n == 22 or n == 26 or n == 27 or n == 30 or n == 31 or n == 35 or n == 36 or n == 41 or n == 42 or n == 47 or n == 48 or n == 67:\n",
    "        x = original[n][1]\n",
    "        y = original[n][2]\n",
    "        distance_list.append([x,y])"
   ]
  },
  {
   "cell_type": "markdown",
   "metadata": {
    "collapsed": false
   },
   "source": [
    "for i in range(0,16,2):\n",
    "        dis = np.sqrt(np.square(distance_list[i+1][0] - distance_list[i][0])+np.square(distance_list[i+1][1] - distance_list[i][1]))\n",
    "        apple.append(dis)"
   ]
  },
  {
   "cell_type": "markdown",
   "metadata": {
    "collapsed": false
   },
   "source": [
    "print (apple)"
   ]
  },
  {
   "cell_type": "markdown",
   "metadata": {
    "collapsed": false
   },
   "source": [
    "df = pd.DataFrame(original)\n",
    "df.columns = ['Person 1', 'a', 'ds']\n",
    "#df.index.name = ['dddd']\n",
    "#df.rename(index=str, rows = {\"0\": \"One\"})\n",
    "#df.row.name = ['Name', 'Chin', 'Right Eyebrow', 'Left Eyebrow', 'Long Nose', 'Bottom Nose', 'Right Eyes', 'Left Eyes', 'Mouth']"
   ]
  },
  {
   "cell_type": "markdown",
   "metadata": {
    "collapsed": false
   },
   "source": [
    "df"
   ]
  },
  {
   "cell_type": "markdown",
   "metadata": {
    "collapsed": false
   },
   "source": [
    "x = os.listdir('/Users/kp/Desktop/Project_Research/test_image/ktp')\n",
    "x.remove(\".DS_Store\")\n",
    "\n",
    "\n",
    "# a= \"monkeybanana\"\n",
    "# b= \"monkeyape\"\n",
    "# c= \"apple\"\n",
    "# list= [a, b, c]\n",
    "\n",
    "\n",
    "# print (\"The words that start with monkey are:\")\n",
    "\n",
    "# for k in list:\n",
    "#     if k.startswith('monkey'):\n",
    "#         k.remove(k)"
   ]
  },
  {
   "cell_type": "markdown",
   "metadata": {
    "collapsed": true
   },
   "source": []
  }
 ],
 "metadata": {
  "anaconda-cloud": {},
  "kernelspec": {
   "display_name": "Python [conda root]",
   "language": "python",
   "name": "conda-root-py"
  },
  "language_info": {
   "codemirror_mode": {
    "name": "ipython",
    "version": 3
   },
   "file_extension": ".py",
   "mimetype": "text/x-python",
   "name": "python",
   "nbconvert_exporter": "python",
   "pygments_lexer": "ipython3",
   "version": "3.5.2"
  }
 },
 "nbformat": 4,
 "nbformat_minor": 1
}
