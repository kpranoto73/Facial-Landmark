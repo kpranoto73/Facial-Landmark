{
 "cells": [
  {
   "cell_type": "code",
   "execution_count": 5,
   "metadata": {
    "collapsed": true
   },
   "outputs": [],
   "source": [
    "import cv2\n",
    "import numpy as np\n",
    "import dlib\n",
    "import array\n",
    "import pandas as pd\n",
    "import os\n",
    "import matplotlib.pyplot as plt\n",
    "%matplotlib inline"
   ]
  },
  {
   "cell_type": "code",
   "execution_count": 16,
   "metadata": {
    "collapsed": false
   },
   "outputs": [],
   "source": [
    "data_path = \"C:/Users/HusniL/Documents/python scripts/face_AI/ktp/ktp/\"\n",
    "dirs = os.listdir(data_path)\n",
    "cascade = cv2.CascadeClassifier('C:/ProgramData/Anaconda3/Lib/site-packages/cv2/data/haarcascade_frontalface_default.xml')\n",
    "\n",
    "undetected = []\n",
    "undetected1 = []\n",
    "for img in dirs:\n",
    "    test_img = cv2.imread(data_path + img)\n",
    "    image_copy = test_img.copy()\n",
    "\n",
    "    #convert the test image to gray scale as opencv face detector expects gray images\n",
    "    gray_image = cv2.cvtColor(image_copy, cv2.COLOR_BGR2GRAY)\n",
    "\n",
    "    # Applying the haar classifier to detect faces\n",
    "    neighbours = 2\n",
    "    min1 = 30\n",
    "    min2 = 100\n",
    "    sf = 1.2\n",
    "    faces_rect = cascade.detectMultiScale(gray_image, scaleFactor=sf, minNeighbors=neighbours, minSize=(min1,min2))\n",
    "    while len(faces_rect)<1:\n",
    "        undetected1.append([img])\n",
    "        min1 = min1 + 10\n",
    "        min2 = min2 + 10\n",
    "        sf = sf + 0.1\n",
    "        faces_rect = cascade.detectMultiScale(gray_image, scaleFactor=sf, minNeighbors=neighbours, minSize=(min1,min2))\n",
    "        for (x, y, w, h) in faces_rect:\n",
    "            a = cv2.rectangle(image_copy, (x, y), (x+w, y+h), (0, 255, 5), 1)\n",
    "            roi_color = image_copy[y:y + h, x:x + w]\n",
    "            c = cv2.imwrite(str(w) + str(h) + '_faces.jpg', roi_color)\n",
    "    undetected.append([img,min1,min2,sf])\n",
    "    plt.imshow(converttoRGB(image_copy))"
   ]
  },
  {
   "cell_type": "code",
   "execution_count": null,
   "metadata": {
    "collapsed": true
   },
   "outputs": [],
   "source": []
  },
  {
   "cell_type": "code",
   "execution_count": 20,
   "metadata": {
    "collapsed": false
   },
   "outputs": [
    {
     "data": {
      "text/plain": [
       "array([[[255, 255, 255],\n",
       "        [255, 255, 255],\n",
       "        [255, 255, 255],\n",
       "        ...,\n",
       "        [221, 232, 236],\n",
       "        [221, 232, 236],\n",
       "        [221, 232, 236]],\n",
       "\n",
       "       [[255, 255, 255],\n",
       "        [255, 255, 255],\n",
       "        [255, 255, 255],\n",
       "        ...,\n",
       "        [221, 232, 236],\n",
       "        [221, 232, 236],\n",
       "        [220, 231, 235]],\n",
       "\n",
       "       [[255, 255, 255],\n",
       "        [255, 255, 255],\n",
       "        [255, 255, 255],\n",
       "        ...,\n",
       "        [220, 231, 235],\n",
       "        [219, 230, 234],\n",
       "        [218, 229, 233]],\n",
       "\n",
       "       ...,\n",
       "\n",
       "       [[255, 255, 255],\n",
       "        [255, 255, 255],\n",
       "        [255, 255, 255],\n",
       "        ...,\n",
       "        [220, 231, 235],\n",
       "        [220, 231, 235],\n",
       "        [220, 231, 235]],\n",
       "\n",
       "       [[255, 255, 255],\n",
       "        [255, 255, 255],\n",
       "        [255, 255, 255],\n",
       "        ...,\n",
       "        [220, 231, 235],\n",
       "        [220, 231, 235],\n",
       "        [220, 231, 235]],\n",
       "\n",
       "       [[255, 255, 255],\n",
       "        [255, 255, 255],\n",
       "        [255, 255, 255],\n",
       "        ...,\n",
       "        [220, 231, 235],\n",
       "        [220, 231, 235],\n",
       "        [220, 231, 235]]], dtype=uint8)"
      ]
     },
     "execution_count": 20,
     "metadata": {},
     "output_type": "execute_result"
    }
   ],
   "source": [
    "gray_image = cv2.cvtColor(test_img, cv2.COLOR_BGR2GRAY)\n",
    "faces_rect = cascade.detectMultiScale(gray_image, minSize=(40,40), minNeighbors=3)\n",
    "test_img"
   ]
  },
  {
   "cell_type": "code",
   "execution_count": null,
   "metadata": {
    "collapsed": true
   },
   "outputs": [],
   "source": []
  }
 ],
 "metadata": {
  "anaconda-cloud": {},
  "kernelspec": {
   "display_name": "Python [conda root]",
   "language": "python",
   "name": "conda-root-py"
  },
  "language_info": {
   "codemirror_mode": {
    "name": "ipython",
    "version": 3
   },
   "file_extension": ".py",
   "mimetype": "text/x-python",
   "name": "python",
   "nbconvert_exporter": "python",
   "pygments_lexer": "ipython3",
   "version": "3.5.2"
  }
 },
 "nbformat": 4,
 "nbformat_minor": 1
}
